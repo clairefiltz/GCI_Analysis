{
 "cells": [
  {
   "cell_type": "markdown",
   "id": "15b1f159",
   "metadata": {},
   "source": [
    "## Test Run for Corpus Analysis"
   ]
  },
  {
   "cell_type": "code",
   "execution_count": 27,
   "id": "fd98b5d8",
   "metadata": {
    "scrolled": true
   },
   "outputs": [
    {
     "name": "stdout",
     "output_type": "stream",
     "text": [
      "Requirement already satisfied: pandas in /Users/cfiltz/miniconda3/envs/work/lib/python3.9/site-packages (1.3.0)\n",
      "Requirement already satisfied: seaborn in /Users/cfiltz/miniconda3/envs/work/lib/python3.9/site-packages (0.11.1)\n",
      "Requirement already satisfied: python-dateutil>=2.7.3 in /Users/cfiltz/miniconda3/envs/work/lib/python3.9/site-packages (from pandas) (2.8.1)\n",
      "Requirement already satisfied: pytz>=2017.3 in /Users/cfiltz/miniconda3/envs/work/lib/python3.9/site-packages (from pandas) (2021.1)\n",
      "Requirement already satisfied: numpy>=1.17.3 in /Users/cfiltz/miniconda3/envs/work/lib/python3.9/site-packages (from pandas) (1.21.0)\n",
      "Requirement already satisfied: six>=1.5 in /Users/cfiltz/miniconda3/envs/work/lib/python3.9/site-packages (from python-dateutil>=2.7.3->pandas) (1.16.0)\n",
      "Requirement already satisfied: scipy>=1.0 in /Users/cfiltz/miniconda3/envs/work/lib/python3.9/site-packages (from seaborn) (1.7.0)\n",
      "Requirement already satisfied: matplotlib>=2.2 in /Users/cfiltz/miniconda3/envs/work/lib/python3.9/site-packages (from seaborn) (3.4.2)\n",
      "Requirement already satisfied: pillow>=6.2.0 in /Users/cfiltz/miniconda3/envs/work/lib/python3.9/site-packages (from matplotlib>=2.2->seaborn) (8.3.1)\n",
      "Requirement already satisfied: pyparsing>=2.2.1 in /Users/cfiltz/miniconda3/envs/work/lib/python3.9/site-packages (from matplotlib>=2.2->seaborn) (2.4.7)\n",
      "Requirement already satisfied: kiwisolver>=1.0.1 in /Users/cfiltz/miniconda3/envs/work/lib/python3.9/site-packages (from matplotlib>=2.2->seaborn) (1.3.1)\n",
      "Requirement already satisfied: cycler>=0.10 in /Users/cfiltz/miniconda3/envs/work/lib/python3.9/site-packages (from matplotlib>=2.2->seaborn) (0.10.0)\n",
      "Note: you may need to restart the kernel to use updated packages.\n"
     ]
    }
   ],
   "source": [
    "pip install pandas seaborn"
   ]
  },
  {
   "cell_type": "code",
   "execution_count": 28,
   "id": "1c46aac6",
   "metadata": {},
   "outputs": [],
   "source": [
    "import pandas as pd\n",
    "import seaborn as sns"
   ]
  },
  {
   "cell_type": "code",
   "execution_count": 29,
   "id": "d2f6fc46",
   "metadata": {},
   "outputs": [
    {
     "name": "stdout",
     "output_type": "stream",
     "text": [
      "/Users/cfiltz\n"
     ]
    }
   ],
   "source": [
    "cd "
   ]
  },
  {
   "cell_type": "code",
   "execution_count": 30,
   "id": "eec6078c",
   "metadata": {},
   "outputs": [
    {
     "name": "stdout",
     "output_type": "stream",
     "text": [
      "\u001b[1m\u001b[36mApplications\u001b[m\u001b[m/  \u001b[1m\u001b[36mDownloads\u001b[m\u001b[m/     \u001b[1m\u001b[36mMusic\u001b[m\u001b[m/         \u001b[1m\u001b[36mdev\u001b[m\u001b[m/           \u001b[1m\u001b[36mopt\u001b[m\u001b[m/\r\n",
      "\u001b[1m\u001b[36mDesktop\u001b[m\u001b[m/       \u001b[1m\u001b[36mLibrary\u001b[m\u001b[m/       \u001b[1m\u001b[36mPictures\u001b[m\u001b[m/      \u001b[1m\u001b[36mminiconda3\u001b[m\u001b[m/    \u001b[1m\u001b[36mpowerlevel10k\u001b[m\u001b[m/\r\n",
      "\u001b[1m\u001b[36mDocuments\u001b[m\u001b[m/     \u001b[1m\u001b[36mMovies\u001b[m\u001b[m/        \u001b[1m\u001b[36mPublic\u001b[m\u001b[m/        \u001b[1m\u001b[36mnltk_data\u001b[m\u001b[m/\r\n"
     ]
    }
   ],
   "source": [
    "ls"
   ]
  },
  {
   "cell_type": "code",
   "execution_count": 31,
   "id": "de27fdf9",
   "metadata": {},
   "outputs": [
    {
     "name": "stdout",
     "output_type": "stream",
     "text": [
      "/Users/cfiltz/Documents\n"
     ]
    }
   ],
   "source": [
    "cd /Users/cfiltz/Documents"
   ]
  },
  {
   "cell_type": "code",
   "execution_count": 32,
   "id": "f61138b6",
   "metadata": {},
   "outputs": [
    {
     "name": "stdout",
     "output_type": "stream",
     "text": [
      "\u001b[1m\u001b[36mBEWERBUNGEN\u001b[m\u001b[m/\r\n",
      "\u001b[31mCV.pdf\u001b[m\u001b[m*\r\n",
      "\u001b[1m\u001b[36mDokumente - Claire-Emeraudes MacBook Pro\u001b[m\u001b[m/\r\n",
      "\u001b[1m\u001b[36mEnglish CV\u001b[m\u001b[m/\r\n",
      "\u001b[1m\u001b[36mHoerbuecher\u001b[m\u001b[m/\r\n",
      "\u001b[1m\u001b[36mLebenslauf\u001b[m\u001b[m/\r\n",
      "\u001b[1m\u001b[36mLebenslauf andersrum\u001b[m\u001b[m/\r\n",
      "\u001b[1m\u001b[36mLebenslauf neu\u001b[m\u001b[m/\r\n",
      "\u001b[31mLettre Banque Postale.docx\u001b[m\u001b[m*\r\n",
      "\u001b[1m\u001b[36mSteuerdateien\u001b[m\u001b[m/\r\n",
      "\u001b[1m\u001b[36mSteuerzertifikat NO OPEN\u001b[m\u001b[m/\r\n",
      "\u001b[1m\u001b[36mUnterlagen Bewerbung\u001b[m\u001b[m/\r\n",
      "test2_analysis.xlsx\r\n",
      "test_analysis.csv\r\n",
      "~$test2_analysis.xlsx\r\n"
     ]
    }
   ],
   "source": [
    "ls"
   ]
  },
  {
   "cell_type": "code",
   "execution_count": 33,
   "id": "ef12644d",
   "metadata": {},
   "outputs": [
    {
     "data": {
      "text/plain": [
       "'/Users/cfiltz/Documents'"
      ]
     },
     "execution_count": 33,
     "metadata": {},
     "output_type": "execute_result"
    }
   ],
   "source": [
    "pwd"
   ]
  },
  {
   "cell_type": "code",
   "execution_count": 45,
   "id": "0f8ab452",
   "metadata": {},
   "outputs": [],
   "source": [
    "df = pd.read_csv('/Users/cfiltz/Documents/test_analysis.csv')"
   ]
  },
  {
   "cell_type": "code",
   "execution_count": 46,
   "id": "a894a83b",
   "metadata": {},
   "outputs": [
    {
     "data": {
      "text/plain": [
       "(69, 1)"
      ]
     },
     "execution_count": 46,
     "metadata": {},
     "output_type": "execute_result"
    }
   ],
   "source": [
    "df.shape"
   ]
  },
  {
   "cell_type": "code",
   "execution_count": 47,
   "id": "49dd34e5",
   "metadata": {},
   "outputs": [
    {
     "data": {
      "text/plain": [
       "Index(['Number;Alienability;Animacy;Cardinality;NP;corpus passage;spoken/written;Q or I;comments'], dtype='object')"
      ]
     },
     "execution_count": 47,
     "metadata": {},
     "output_type": "execute_result"
    }
   ],
   "source": [
    "df.columns"
   ]
  },
  {
   "cell_type": "code",
   "execution_count": 48,
   "id": "f1c608d1",
   "metadata": {},
   "outputs": [
    {
     "data": {
      "text/html": [
       "<div>\n",
       "<style scoped>\n",
       "    .dataframe tbody tr th:only-of-type {\n",
       "        vertical-align: middle;\n",
       "    }\n",
       "\n",
       "    .dataframe tbody tr th {\n",
       "        vertical-align: top;\n",
       "    }\n",
       "\n",
       "    .dataframe thead th {\n",
       "        text-align: right;\n",
       "    }\n",
       "</style>\n",
       "<table border=\"1\" class=\"dataframe\">\n",
       "  <thead>\n",
       "    <tr style=\"text-align: right;\">\n",
       "      <th></th>\n",
       "      <th>Number;Alienability;Animacy;Cardinality;NP;corpus passage;spoken/written;Q or I;comments</th>\n",
       "    </tr>\n",
       "  </thead>\n",
       "  <tbody>\n",
       "    <tr>\n",
       "      <th>0</th>\n",
       "      <td>asdfhasdf;+AL;+AN;1;a doctor;blaa;written;Q;no...</td>\n",
       "    </tr>\n",
       "    <tr>\n",
       "      <th>1</th>\n",
       "      <td>asdfa;+AL;+AN;1;a priest;yuhuu;spoken;I;what</td>\n",
       "    </tr>\n",
       "    <tr>\n",
       "      <th>2</th>\n",
       "      <td>asdf;+AL;+AN;1;a babysitter;;;;</td>\n",
       "    </tr>\n",
       "    <tr>\n",
       "      <th>3</th>\n",
       "      <td>yxcv;+AL;+AN;1;a landlord;;;;</td>\n",
       "    </tr>\n",
       "    <tr>\n",
       "      <th>4</th>\n",
       "      <td>;+AL;+AN;1;a CEO;;;;</td>\n",
       "    </tr>\n",
       "  </tbody>\n",
       "</table>\n",
       "</div>"
      ],
      "text/plain": [
       "  Number;Alienability;Animacy;Cardinality;NP;corpus passage;spoken/written;Q or I;comments\n",
       "0  asdfhasdf;+AL;+AN;1;a doctor;blaa;written;Q;no...                                      \n",
       "1       asdfa;+AL;+AN;1;a priest;yuhuu;spoken;I;what                                      \n",
       "2                    asdf;+AL;+AN;1;a babysitter;;;;                                      \n",
       "3                      yxcv;+AL;+AN;1;a landlord;;;;                                      \n",
       "4                               ;+AL;+AN;1;a CEO;;;;                                      "
      ]
     },
     "execution_count": 48,
     "metadata": {},
     "output_type": "execute_result"
    }
   ],
   "source": [
    "df.head()"
   ]
  },
  {
   "cell_type": "code",
   "execution_count": 54,
   "id": "aa8f7d12",
   "metadata": {},
   "outputs": [],
   "source": [
    "import pandas as pd"
   ]
  },
  {
   "cell_type": "code",
   "execution_count": 55,
   "id": "3552cb56",
   "metadata": {},
   "outputs": [],
   "source": [
    "data = pd.read_excel('/Users/cfiltz/Desktop/Korpusanalyse.xlsx')"
   ]
  },
  {
   "cell_type": "code",
   "execution_count": 56,
   "id": "e180f885",
   "metadata": {},
   "outputs": [
    {
     "data": {
      "text/html": [
       "<div>\n",
       "<style scoped>\n",
       "    .dataframe tbody tr th:only-of-type {\n",
       "        vertical-align: middle;\n",
       "    }\n",
       "\n",
       "    .dataframe tbody tr th {\n",
       "        vertical-align: top;\n",
       "    }\n",
       "\n",
       "    .dataframe thead th {\n",
       "        text-align: right;\n",
       "    }\n",
       "</style>\n",
       "<table border=\"1\" class=\"dataframe\">\n",
       "  <thead>\n",
       "    <tr style=\"text-align: right;\">\n",
       "      <th></th>\n",
       "      <th>ID</th>\n",
       "      <th>Semantic Features</th>\n",
       "      <th>item</th>\n",
       "      <th>YEAR</th>\n",
       "      <th>GENRE</th>\n",
       "      <th>spoken/written</th>\n",
       "      <th>text passage</th>\n",
       "      <th>Q or I GCI?</th>\n",
       "    </tr>\n",
       "  </thead>\n",
       "  <tbody>\n",
       "    <tr>\n",
       "      <th>0</th>\n",
       "      <td>NaN</td>\n",
       "      <td>NaN</td>\n",
       "      <td>a house</td>\n",
       "      <td>2016.0</td>\n",
       "      <td>SPOK</td>\n",
       "      <td>NaN</td>\n",
       "      <td>Power was cut to about two hundred and fifty ...</td>\n",
       "      <td>NaN</td>\n",
       "    </tr>\n",
       "    <tr>\n",
       "      <th>1</th>\n",
       "      <td>NaN</td>\n",
       "      <td>NaN</td>\n",
       "      <td>a house</td>\n",
       "      <td>2001.0</td>\n",
       "      <td>SPOK</td>\n",
       "      <td>NaN</td>\n",
       "      <td>Later, we'll be showing you lots of examples o...</td>\n",
       "      <td>NaN</td>\n",
       "    </tr>\n",
       "    <tr>\n",
       "      <th>2</th>\n",
       "      <td>NaN</td>\n",
       "      <td>NaN</td>\n",
       "      <td>a house</td>\n",
       "      <td>2014.0</td>\n",
       "      <td>MOV</td>\n",
       "      <td>NaN</td>\n",
       "      <td>I saw that, but it could be any park in the co...</td>\n",
       "      <td>NaN</td>\n",
       "    </tr>\n",
       "    <tr>\n",
       "      <th>3</th>\n",
       "      <td>NaN</td>\n",
       "      <td>NaN</td>\n",
       "      <td>a house</td>\n",
       "      <td>2006.0</td>\n",
       "      <td>TV</td>\n",
       "      <td>NaN</td>\n",
       "      <td>This is a surprise - - a very nice one, but u...</td>\n",
       "      <td>NaN</td>\n",
       "    </tr>\n",
       "    <tr>\n",
       "      <th>4</th>\n",
       "      <td>NaN</td>\n",
       "      <td>NaN</td>\n",
       "      <td>a house</td>\n",
       "      <td>1999.0</td>\n",
       "      <td>SPOK</td>\n",
       "      <td>NaN</td>\n",
       "      <td>Once again, the city's charms seduced her. Ms-...</td>\n",
       "      <td>NaN</td>\n",
       "    </tr>\n",
       "  </tbody>\n",
       "</table>\n",
       "</div>"
      ],
      "text/plain": [
       "   ID  Semantic Features     item    YEAR GENRE  spoken/written  \\\n",
       "0 NaN                NaN  a house  2016.0  SPOK             NaN   \n",
       "1 NaN                NaN  a house  2001.0  SPOK             NaN   \n",
       "2 NaN                NaN  a house  2014.0   MOV             NaN   \n",
       "3 NaN                NaN  a house  2006.0    TV             NaN   \n",
       "4 NaN                NaN  a house  1999.0  SPOK             NaN   \n",
       "\n",
       "                                        text passage  Q or I GCI?   \n",
       "0   Power was cut to about two hundred and fifty ...           NaN  \n",
       "1  Later, we'll be showing you lots of examples o...           NaN  \n",
       "2  I saw that, but it could be any park in the co...           NaN  \n",
       "3   This is a surprise - - a very nice one, but u...           NaN  \n",
       "4  Once again, the city's charms seduced her. Ms-...           NaN  "
      ]
     },
     "execution_count": 56,
     "metadata": {},
     "output_type": "execute_result"
    }
   ],
   "source": [
    "data.head(5)"
   ]
  },
  {
   "cell_type": "code",
   "execution_count": 10,
   "id": "da3fa503",
   "metadata": {},
   "outputs": [
    {
     "data": {
      "text/html": [
       "<div>\n",
       "<style scoped>\n",
       "    .dataframe tbody tr th:only-of-type {\n",
       "        vertical-align: middle;\n",
       "    }\n",
       "\n",
       "    .dataframe tbody tr th {\n",
       "        vertical-align: top;\n",
       "    }\n",
       "\n",
       "    .dataframe thead th {\n",
       "        text-align: right;\n",
       "    }\n",
       "</style>\n",
       "<table border=\"1\" class=\"dataframe\">\n",
       "  <thead>\n",
       "    <tr style=\"text-align: right;\">\n",
       "      <th></th>\n",
       "      <th>ID</th>\n",
       "      <th>Semantic Features</th>\n",
       "      <th>item</th>\n",
       "      <th>YEAR</th>\n",
       "      <th>GENRE</th>\n",
       "      <th>spoken/written</th>\n",
       "      <th>text passage</th>\n",
       "      <th>Q or I GCI?</th>\n",
       "    </tr>\n",
       "  </thead>\n",
       "  <tbody>\n",
       "    <tr>\n",
       "      <th>0</th>\n",
       "      <td>NaN</td>\n",
       "      <td>NaN</td>\n",
       "      <td>a house</td>\n",
       "      <td>2016.0</td>\n",
       "      <td>SPOK</td>\n",
       "      <td>NaN</td>\n",
       "      <td>Power was cut to about two hundred and fifty ...</td>\n",
       "      <td>NaN</td>\n",
       "    </tr>\n",
       "    <tr>\n",
       "      <th>1</th>\n",
       "      <td>NaN</td>\n",
       "      <td>NaN</td>\n",
       "      <td>a house</td>\n",
       "      <td>2001.0</td>\n",
       "      <td>SPOK</td>\n",
       "      <td>NaN</td>\n",
       "      <td>Later, we'll be showing you lots of examples o...</td>\n",
       "      <td>NaN</td>\n",
       "    </tr>\n",
       "    <tr>\n",
       "      <th>4</th>\n",
       "      <td>NaN</td>\n",
       "      <td>NaN</td>\n",
       "      <td>a house</td>\n",
       "      <td>1999.0</td>\n",
       "      <td>SPOK</td>\n",
       "      <td>NaN</td>\n",
       "      <td>Once again, the city's charms seduced her. Ms-...</td>\n",
       "      <td>NaN</td>\n",
       "    </tr>\n",
       "    <tr>\n",
       "      <th>5</th>\n",
       "      <td>NaN</td>\n",
       "      <td>NaN</td>\n",
       "      <td>a house</td>\n",
       "      <td>2006.0</td>\n",
       "      <td>SPOK</td>\n",
       "      <td>NaN</td>\n",
       "      <td>Watson teaches medical ethics at Northwestern ...</td>\n",
       "      <td>NaN</td>\n",
       "    </tr>\n",
       "    <tr>\n",
       "      <th>7</th>\n",
       "      <td>NaN</td>\n",
       "      <td>NaN</td>\n",
       "      <td>a house</td>\n",
       "      <td>2011.0</td>\n",
       "      <td>SPOK</td>\n",
       "      <td>NaN</td>\n",
       "      <td>They were using power. I was a private citizen...</td>\n",
       "      <td>NaN</td>\n",
       "    </tr>\n",
       "    <tr>\n",
       "      <th>10</th>\n",
       "      <td>NaN</td>\n",
       "      <td>NaN</td>\n",
       "      <td>a professor</td>\n",
       "      <td>2001.0</td>\n",
       "      <td>SPOK</td>\n",
       "      <td>NaN</td>\n",
       "      <td>And as always, you're welcome to surf over to ...</td>\n",
       "      <td>NaN</td>\n",
       "    </tr>\n",
       "    <tr>\n",
       "      <th>11</th>\n",
       "      <td>NaN</td>\n",
       "      <td>NaN</td>\n",
       "      <td>a professor</td>\n",
       "      <td>1999.0</td>\n",
       "      <td>SPOK</td>\n",
       "      <td>NaN</td>\n",
       "      <td>Please include your name and phone number with...</td>\n",
       "      <td>NaN</td>\n",
       "    </tr>\n",
       "    <tr>\n",
       "      <th>14</th>\n",
       "      <td>NaN</td>\n",
       "      <td>NaN</td>\n",
       "      <td>a professor</td>\n",
       "      <td>2003.0</td>\n",
       "      <td>SPOK</td>\n",
       "      <td>NaN</td>\n",
       "      <td>That's, I think, one of the things that makes ...</td>\n",
       "      <td>NaN</td>\n",
       "    </tr>\n",
       "    <tr>\n",
       "      <th>15</th>\n",
       "      <td>NaN</td>\n",
       "      <td>NaN</td>\n",
       "      <td>a professor</td>\n",
       "      <td>2001.0</td>\n",
       "      <td>SPOK</td>\n",
       "      <td>NaN</td>\n",
       "      <td>it gives us more access, it gives us a chance...</td>\n",
       "      <td>NaN</td>\n",
       "    </tr>\n",
       "    <tr>\n",
       "      <th>16</th>\n",
       "      <td>NaN</td>\n",
       "      <td>NaN</td>\n",
       "      <td>a professor</td>\n",
       "      <td>2014.0</td>\n",
       "      <td>SPOK</td>\n",
       "      <td>NaN</td>\n",
       "      <td>They was coaching me, and I was writing it dow...</td>\n",
       "      <td>NaN</td>\n",
       "    </tr>\n",
       "    <tr>\n",
       "      <th>18</th>\n",
       "      <td>NaN</td>\n",
       "      <td>NaN</td>\n",
       "      <td>a professor</td>\n",
       "      <td>2012.0</td>\n",
       "      <td>SPOK</td>\n",
       "      <td>NaN</td>\n",
       "      <td>But somebody who was in Tahrir Square 16 month...</td>\n",
       "      <td>NaN</td>\n",
       "    </tr>\n",
       "    <tr>\n",
       "      <th>19</th>\n",
       "      <td>NaN</td>\n",
       "      <td>NaN</td>\n",
       "      <td>a professor</td>\n",
       "      <td>2014.0</td>\n",
       "      <td>SPOK</td>\n",
       "      <td>NaN</td>\n",
       "      <td>All of that makes a big difference. MICHEL-MAR...</td>\n",
       "      <td>NaN</td>\n",
       "    </tr>\n",
       "    <tr>\n",
       "      <th>38</th>\n",
       "      <td>NaN</td>\n",
       "      <td>NaN</td>\n",
       "      <td>a leg</td>\n",
       "      <td>1995.0</td>\n",
       "      <td>SPOK</td>\n",
       "      <td>NaN</td>\n",
       "      <td>moms with uglier ones paid more attention to o...</td>\n",
       "      <td>NaN</td>\n",
       "    </tr>\n",
       "    <tr>\n",
       "      <th>42</th>\n",
       "      <td>NaN</td>\n",
       "      <td>NaN</td>\n",
       "      <td>a leg</td>\n",
       "      <td>2018.0</td>\n",
       "      <td>SPOK</td>\n",
       "      <td>NaN</td>\n",
       "      <td>It doesn't matter. HANNITY) : You're a Trump. ...</td>\n",
       "      <td>NaN</td>\n",
       "    </tr>\n",
       "    <tr>\n",
       "      <th>44</th>\n",
       "      <td>NaN</td>\n",
       "      <td>NaN</td>\n",
       "      <td>a leg</td>\n",
       "      <td>2003.0</td>\n",
       "      <td>SPOK</td>\n",
       "      <td>NaN</td>\n",
       "      <td>last 12 years despite getting the fundamentals...</td>\n",
       "      <td>NaN</td>\n",
       "    </tr>\n",
       "    <tr>\n",
       "      <th>50</th>\n",
       "      <td>NaN</td>\n",
       "      <td>NaN</td>\n",
       "      <td>a finger</td>\n",
       "      <td>1999.0</td>\n",
       "      <td>SPOK</td>\n",
       "      <td>NaN</td>\n",
       "      <td>you're not going to get peace without justice....</td>\n",
       "      <td>NaN</td>\n",
       "    </tr>\n",
       "    <tr>\n",
       "      <th>51</th>\n",
       "      <td>NaN</td>\n",
       "      <td>NaN</td>\n",
       "      <td>a finger</td>\n",
       "      <td>1992.0</td>\n",
       "      <td>SPOK</td>\n",
       "      <td>NaN</td>\n",
       "      <td>rescue two employees. (Early-photo-of-Per) Mr-...</td>\n",
       "      <td>NaN</td>\n",
       "    </tr>\n",
       "    <tr>\n",
       "      <th>54</th>\n",
       "      <td>NaN</td>\n",
       "      <td>NaN</td>\n",
       "      <td>a finger</td>\n",
       "      <td>1993.0</td>\n",
       "      <td>SPOK</td>\n",
       "      <td>NaN</td>\n",
       "      <td>to be Attorney General, this new president is ...</td>\n",
       "      <td>NaN</td>\n",
       "    </tr>\n",
       "    <tr>\n",
       "      <th>56</th>\n",
       "      <td>NaN</td>\n",
       "      <td>NaN</td>\n",
       "      <td>a nose</td>\n",
       "      <td>2015.0</td>\n",
       "      <td>SPOK</td>\n",
       "      <td>NaN</td>\n",
       "      <td>AL ROKER: Three. NATALIE-MORALES# Right. TAMRO...</td>\n",
       "      <td>NaN</td>\n",
       "    </tr>\n",
       "    <tr>\n",
       "      <th>59</th>\n",
       "      <td>NaN</td>\n",
       "      <td>NaN</td>\n",
       "      <td>a nose</td>\n",
       "      <td>1997.0</td>\n",
       "      <td>SPOK</td>\n",
       "      <td>NaN</td>\n",
       "      <td>big ape. The second movie on the bill was \" Th...</td>\n",
       "      <td>NaN</td>\n",
       "    </tr>\n",
       "    <tr>\n",
       "      <th>62</th>\n",
       "      <td>NaN</td>\n",
       "      <td>NaN</td>\n",
       "      <td>a nose</td>\n",
       "      <td>2007.0</td>\n",
       "      <td>SPOK</td>\n",
       "      <td>NaN</td>\n",
       "      <td>but bar the. (CROSSTALK) That was a piece of i...</td>\n",
       "      <td>NaN</td>\n",
       "    </tr>\n",
       "    <tr>\n",
       "      <th>68</th>\n",
       "      <td>NaN</td>\n",
       "      <td>NaN</td>\n",
       "      <td>a bag</td>\n",
       "      <td>2001.0</td>\n",
       "      <td>SPOK</td>\n",
       "      <td>NaN</td>\n",
       "      <td>welfare, in child abuse, in prisons and what h...</td>\n",
       "      <td>NaN</td>\n",
       "    </tr>\n",
       "    <tr>\n",
       "      <th>81</th>\n",
       "      <td>NaN</td>\n",
       "      <td>NaN</td>\n",
       "      <td>a shoe</td>\n",
       "      <td>2012.0</td>\n",
       "      <td>SPOK</td>\n",
       "      <td>NaN</td>\n",
       "      <td>The Avengers dropped to second place, but it's...</td>\n",
       "      <td>NaN</td>\n",
       "    </tr>\n",
       "    <tr>\n",
       "      <th>83</th>\n",
       "      <td>NaN</td>\n",
       "      <td>NaN</td>\n",
       "      <td>a shoe</td>\n",
       "      <td>1995.0</td>\n",
       "      <td>SPOK</td>\n",
       "      <td>NaN</td>\n",
       "      <td>He has qualified every answer to a hypothetica...</td>\n",
       "      <td>NaN</td>\n",
       "    </tr>\n",
       "  </tbody>\n",
       "</table>\n",
       "</div>"
      ],
      "text/plain": [
       "    ID  Semantic Features         item    YEAR GENRE  spoken/written  \\\n",
       "0  NaN                NaN      a house  2016.0  SPOK             NaN   \n",
       "1  NaN                NaN      a house  2001.0  SPOK             NaN   \n",
       "4  NaN                NaN      a house  1999.0  SPOK             NaN   \n",
       "5  NaN                NaN      a house  2006.0  SPOK             NaN   \n",
       "7  NaN                NaN      a house  2011.0  SPOK             NaN   \n",
       "10 NaN                NaN  a professor  2001.0  SPOK             NaN   \n",
       "11 NaN                NaN  a professor  1999.0  SPOK             NaN   \n",
       "14 NaN                NaN  a professor  2003.0  SPOK             NaN   \n",
       "15 NaN                NaN  a professor  2001.0  SPOK             NaN   \n",
       "16 NaN                NaN  a professor  2014.0  SPOK             NaN   \n",
       "18 NaN                NaN  a professor  2012.0  SPOK             NaN   \n",
       "19 NaN                NaN  a professor  2014.0  SPOK             NaN   \n",
       "38 NaN                NaN        a leg  1995.0  SPOK             NaN   \n",
       "42 NaN                NaN        a leg  2018.0  SPOK             NaN   \n",
       "44 NaN                NaN        a leg  2003.0  SPOK             NaN   \n",
       "50 NaN                NaN     a finger  1999.0  SPOK             NaN   \n",
       "51 NaN                NaN     a finger  1992.0  SPOK             NaN   \n",
       "54 NaN                NaN     a finger  1993.0  SPOK             NaN   \n",
       "56 NaN                NaN       a nose  2015.0  SPOK             NaN   \n",
       "59 NaN                NaN       a nose  1997.0  SPOK             NaN   \n",
       "62 NaN                NaN       a nose  2007.0  SPOK             NaN   \n",
       "68 NaN                NaN        a bag  2001.0  SPOK             NaN   \n",
       "81 NaN                NaN       a shoe  2012.0  SPOK             NaN   \n",
       "83 NaN                NaN       a shoe  1995.0  SPOK             NaN   \n",
       "\n",
       "                                         text passage  Q or I GCI?   \n",
       "0    Power was cut to about two hundred and fifty ...           NaN  \n",
       "1   Later, we'll be showing you lots of examples o...           NaN  \n",
       "4   Once again, the city's charms seduced her. Ms-...           NaN  \n",
       "5   Watson teaches medical ethics at Northwestern ...           NaN  \n",
       "7   They were using power. I was a private citizen...           NaN  \n",
       "10  And as always, you're welcome to surf over to ...           NaN  \n",
       "11  Please include your name and phone number with...           NaN  \n",
       "14  That's, I think, one of the things that makes ...           NaN  \n",
       "15   it gives us more access, it gives us a chance...           NaN  \n",
       "16  They was coaching me, and I was writing it dow...           NaN  \n",
       "18  But somebody who was in Tahrir Square 16 month...           NaN  \n",
       "19  All of that makes a big difference. MICHEL-MAR...           NaN  \n",
       "38  moms with uglier ones paid more attention to o...           NaN  \n",
       "42  It doesn't matter. HANNITY) : You're a Trump. ...           NaN  \n",
       "44  last 12 years despite getting the fundamentals...           NaN  \n",
       "50  you're not going to get peace without justice....           NaN  \n",
       "51  rescue two employees. (Early-photo-of-Per) Mr-...           NaN  \n",
       "54  to be Attorney General, this new president is ...           NaN  \n",
       "56  AL ROKER: Three. NATALIE-MORALES# Right. TAMRO...           NaN  \n",
       "59  big ape. The second movie on the bill was \" Th...           NaN  \n",
       "62  but bar the. (CROSSTALK) That was a piece of i...           NaN  \n",
       "68  welfare, in child abuse, in prisons and what h...           NaN  \n",
       "81  The Avengers dropped to second place, but it's...           NaN  \n",
       "83  He has qualified every answer to a hypothetica...           NaN  "
      ]
     },
     "execution_count": 10,
     "metadata": {},
     "output_type": "execute_result"
    }
   ],
   "source": [
    "data[data['GENRE'] == 'SPOK']"
   ]
  },
  {
   "cell_type": "code",
   "execution_count": null,
   "id": "80eb9618",
   "metadata": {},
   "outputs": [],
   "source": []
  }
 ],
 "metadata": {
  "kernelspec": {
   "display_name": "Python 3",
   "language": "python",
   "name": "python3"
  },
  "language_info": {
   "codemirror_mode": {
    "name": "ipython",
    "version": 3
   },
   "file_extension": ".py",
   "mimetype": "text/x-python",
   "name": "python",
   "nbconvert_exporter": "python",
   "pygments_lexer": "ipython3",
   "version": "3.9.6"
  }
 },
 "nbformat": 4,
 "nbformat_minor": 5
}
